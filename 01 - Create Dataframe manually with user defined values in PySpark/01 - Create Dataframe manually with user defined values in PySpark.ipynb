{
 "cells": [
  {
   "cell_type": "markdown",
   "metadata": {
    "application/vnd.databricks.v1+cell": {
     "cellMetadata": {
      "byteLimit": 2048000,
      "rowLimit": 10000
     },
     "inputWidgets": {},
     "nuid": "223659e7-5797-43a3-bad3-5f6061a0b7a8",
     "showTitle": false,
     "title": ""
    }
   },
   "source": [
    "####Create Dataframe manually with hard coded values in PySpark"
   ]
  },
  {
   "cell_type": "code",
   "execution_count": 0,
   "metadata": {
    "application/vnd.databricks.v1+cell": {
     "cellMetadata": {
      "byteLimit": 2048000,
      "rowLimit": 10000
     },
     "inputWidgets": {},
     "nuid": "a17283b3-2f33-479a-ac91-0f3b327edda6",
     "showTitle": false,
     "title": ""
    }
   },
   "outputs": [],
   "source": [
    "data = [(\"Alice\", 25, \"New York\"),\n",
    "        (\"Bob\", 30, \"San Francisco\"),\n",
    "        (\"Charlie\", 22, \"Los Angeles\")]\n",
    "\n",
    "schema = ['name', 'age', 'city']"
   ]
  },
  {
   "cell_type": "code",
   "execution_count": 0,
   "metadata": {
    "application/vnd.databricks.v1+cell": {
     "cellMetadata": {
      "byteLimit": 2048000,
      "rowLimit": 10000
     },
     "inputWidgets": {},
     "nuid": "aede6f88-01fa-4f4d-b40e-5e1bb581c786",
     "showTitle": false,
     "title": ""
    }
   },
   "outputs": [
    {
     "output_type": "stream",
     "name": "stdout",
     "output_type": "stream",
     "text": [
      "+-------+---+-------------+\n|   name|age|         city|\n+-------+---+-------------+\n|  Alice| 25|     New York|\n|    Bob| 30|San Francisco|\n|Charlie| 22|  Los Angeles|\n+-------+---+-------------+\n\n"
     ]
    }
   ],
   "source": [
    "df = spark.createDataFrame(data=data, schema = schema)\n",
    "df.show()"
   ]
  },
  {
   "cell_type": "markdown",
   "metadata": {
    "application/vnd.databricks.v1+cell": {
     "cellMetadata": {
      "byteLimit": 2048000,
      "rowLimit": 10000
     },
     "inputWidgets": {},
     "nuid": "d6e9e68e-faa9-4e65-85cb-5e7e861e52d2",
     "showTitle": false,
     "title": ""
    }
   },
   "source": [
    "#####Define schema with datatype"
   ]
  },
  {
   "cell_type": "code",
   "execution_count": 0,
   "metadata": {
    "application/vnd.databricks.v1+cell": {
     "cellMetadata": {
      "byteLimit": 2048000,
      "rowLimit": 10000
     },
     "inputWidgets": {},
     "nuid": "395b2acf-656d-4f59-9f08-6dae0db13e87",
     "showTitle": false,
     "title": ""
    }
   },
   "outputs": [],
   "source": [
    "from pyspark.sql.types import StructType, StructField, IntegerType, StringType\n",
    "\n",
    "data = [(\"Alice\", 25, \"New York\"),\n",
    "        (\"Bob\", 30, \"San Francisco\"),\n",
    "        (\"Charlie\", 22, \"Los Angeles\")]\n",
    "\n",
    "schema = StructType(\n",
    "    [\n",
    "        StructField(name = 'name', dataType = StringType()),\n",
    "        StructField(name = 'age', dataType = IntegerType()),\n",
    "        StructField(name = 'city', dataType = StringType())\n",
    "    ]\n",
    ")"
   ]
  },
  {
   "cell_type": "code",
   "execution_count": 0,
   "metadata": {
    "application/vnd.databricks.v1+cell": {
     "cellMetadata": {
      "byteLimit": 2048000,
      "rowLimit": 10000
     },
     "inputWidgets": {},
     "nuid": "b00dc980-0749-4802-b4a8-6c2c79f65d5d",
     "showTitle": false,
     "title": ""
    }
   },
   "outputs": [
    {
     "output_type": "stream",
     "name": "stdout",
     "output_type": "stream",
     "text": [
      "root\n |-- name: string (nullable = true)\n |-- age: integer (nullable = true)\n |-- city: string (nullable = true)\n\n+-------+---+-------------+\n|   name|age|         city|\n+-------+---+-------------+\n|  Alice| 25|     New York|\n|    Bob| 30|San Francisco|\n|Charlie| 22|  Los Angeles|\n+-------+---+-------------+\n\n"
     ]
    }
   ],
   "source": [
    "df = spark.createDataFrame(data, schema = schema)\n",
    "df.printSchema()\n",
    "df.show()"
   ]
  }
 ],
 "metadata": {
  "application/vnd.databricks.v1+notebook": {
   "dashboards": [],
   "language": "python",
   "notebookMetadata": {
    "pythonIndentUnit": 4
   },
   "notebookName": "02 - Create Dataframe manually with hard coded values in PySpark",
   "widgets": {}
  }
 },
 "nbformat": 4,
 "nbformat_minor": 0
}
